{
 "cells": [
  {
   "cell_type": "markdown",
   "metadata": {},
   "source": [
    "# 20. Условная оптимизация. Метод штрафных функций\n",
    "\n",
    "Рассмотрим один из многочисленных вариантов *метода штрафных функций*.\n",
    "Задача условной оптимизации\n",
    "$$\n",
    "   f(x) \\to \\min\n",
    "$$ \n",
    "при ограничениях \n",
    "$$\n",
    "g_1(x) = 0, \\dots, g_m(x) = 0, \\quad\n",
    "h_1(x) \\le 0, \\dots, h_p(x) \\le 0\n",
    "$$\n",
    "решается при помощи решения последовательности вспомогательных задач безусловной оптимизации:\n",
    "$$\n",
    "\\left(F(x) + c\\sum_{i=1}^m g(h_i)^2 + c\\sum_{k=1}^p \\left[ h(h_k) \\right]_+^2\\right) \\to \\min,\n",
    "$$\n",
    "где $c$ – некоторая возрастающая последовательность (например, геометрическая прогрессия),\n",
    "$[\\alpha]_+ = \\max\\{0,\\,\\alpha\\}$.\n",
    "\n",
    "Реализуйте данный метод. Для решения задачи безусловной оптимизации воспользуйтесь функциями из библиотеки SciPy.\n",
    "\n",
    "Проиллюстрируйте работу метода на двумерной и многомерных функциях Розенброка\n",
    "$$\n",
    "f(x_1,x_2,\\dots,x_n) = \\sum_{i=1}^{n-1} \\left(  (1-x_i)^2+ 100 (x_{i+1} - x_i^2 )^2 \\right) \n",
    "$$\n",
    "с линейными и квадратичными ограничениями.\n",
    "Для $n=2$ изобразите найденные точки минимума на каждой итерации.\n"
   ]
  },
  {
   "cell_type": "markdown",
   "metadata": {},
   "source": [
    "## Решение\n",
    "\n",
    "Составив систему из трёх уравнений, с помощью встроенного в SciPy метода minimize решим её методом Розенброка\n"
   ]
  },
  {
   "cell_type": "markdown",
   "metadata": {},
   "source": [
    "*Начальные данные:*  \n",
    "x1-2*x2+2=0  \n",
    "-x1-2*x2+6=0  \n",
    "-x1+2*x2+2=0  \n",
    "\n"
   ]
  },
  {
   "cell_type": "markdown",
   "metadata": {},
   "source": [
    "Занесём нашу систему уравнений как три отдельных уравнения, после чего составим систему непосредственно в коде\n"
   ]
  },
  {
   "cell_type": "code",
   "execution_count": null,
   "metadata": {},
   "outputs": [],
   "source": [
    "from scipy.optimize import minimize\n",
    "    x1 = lambda x: (x[0] - 2 * x[1] + 2);\n",
    "    x2 = lambda x: (-x[0] - 2 * x[1] + 6);\n",
    "    x3 = lambda x: (-x[0] + 2 * x[1] + 2);"
   ]
  },
  {
   "cell_type": "markdown",
   "metadata": {},
   "source": [
    "### Первый способ:  \n",
    "Решить данную систему можно методом Розенброка по следующей формуле:\n"
   ]
  },
  {
   "cell_type": "code",
   "execution_count": null,
   "metadata": {},
   "outputs": [],
   "source": [
    "rozen = lambda x: (1-x[0])**2 + 100*(x[1] - x[0]**2)**2;"
   ]
  },
  {
   "cell_type": "markdown",
   "metadata": {},
   "source": [
    "Далее займёмся поиском глобального минимума для данной функции"
   ]
  },
  {
   "cell_type": "code",
   "execution_count": 5,
   "metadata": {},
   "outputs": [
    {
     "name": "stdout",
     "output_type": "stream",
     "text": [
      "[0.99982398 0.99964502]\n"
     ]
    }
   ],
   "source": [
    "min = minimize(rozen, [2.2,3], constraints=cons)\n",
    "print(min.x)"
   ]
  },
  {
   "cell_type": "markdown",
   "metadata": {},
   "source": [
    "### Второй способ:\n",
    "Решить данную систему можно методом штрафных функций.   \n",
    "Система уже подготовлена, так что при исходной точке r и указании точности решения остаётся решить следующую задачу безусловной оптимизации:"
   ]
  },
  {
   "cell_type": "code",
   "execution_count": 7,
   "metadata": {},
   "outputs": [
    {
     "name": "stdout",
     "output_type": "stream",
     "text": [
      "[0.99495004 0.98991399]\n",
      "1\n"
     ]
    }
   ],
   "source": [
    "n = 1\n",
    "r = 1\n",
    "b = 0.2\n",
    "for i in range(5):\n",
    "    func = lambda x: rozen(x) + r*(1.0/(x1(x)**2 + x2(x)**2 + x3(x)**2)) #Метод штрафных функций\n",
    "    a = minimize(func, [6,7]).x;\n",
    "    n = n + 1\n",
    "    r = r*b;\n",
    "    if func(a) < 0.005:\n",
    "        break\n",
    "print(a)\n",
    "print(i)"
   ]
  },
  {
   "cell_type": "markdown",
   "metadata": {},
   "source": [
    "Получаем наши точки и количество итераций для их нахождения.  \n",
    "  \n",
    "*Так как уравнение решается в одну итерацию, в графике нет необходимости*"
   ]
  },
  {
   "cell_type": "markdown",
   "metadata": {},
   "source": [
    "## Сравнение полученных результатов:\n",
    "\n",
    "\n",
    "По полученным результатам можно заметить, что эти два способа схожи, но метод Розенброка имеет бóльшую точность.  \n",
    "  \n",
    "Основная задача метода штрафных функций и метода Розенброка в преобразовании задачи минимизации функций выполнена."
   ]
  }
 ],
 "metadata": {
  "kernelspec": {
   "display_name": "Python 3",
   "language": "python",
   "name": "python3"
  },
  "language_info": {
   "codemirror_mode": {
    "name": "ipython",
    "version": 3
   },
   "file_extension": ".py",
   "mimetype": "text/x-python",
   "name": "python",
   "nbconvert_exporter": "python",
   "pygments_lexer": "ipython3",
   "version": "3.7.6"
  }
 },
 "nbformat": 4,
 "nbformat_minor": 4
}
